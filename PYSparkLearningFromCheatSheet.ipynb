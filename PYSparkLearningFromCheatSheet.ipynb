{
 "cells": [
  {
   "attachments": {},
   "cell_type": "markdown",
   "metadata": {},
   "source": [
    "### In this sheet, we'll be following the cheatsheet\n",
    "### The file will be people.txt\n"
   ]
  },
  {
   "cell_type": "code",
   "execution_count": 3,
   "metadata": {},
   "outputs": [
    {
     "name": "stdout",
     "output_type": "stream",
     "text": [
      "MAKE SURE YOU'RE USING 3.11!!!\n"
     ]
    }
   ],
   "source": [
    "import sys\n",
    "sys.version\n",
    "print(\"MAKE SURE YOU'RE USING 3.11!!!\")"
   ]
  },
  {
   "cell_type": "code",
   "execution_count": 2,
   "metadata": {},
   "outputs": [
    {
     "data": {
      "text/plain": [
       "<Axes: ylabel='Frequency'>"
      ]
     },
     "execution_count": 2,
     "metadata": {},
     "output_type": "execute_result"
    },
    {
     "data": {
      "image/png": "[encoded data removed]",
      "text/plain": [
       "<Figure size 640x480 with 1 Axes>"
      ]
     },
     "metadata": {},
     "output_type": "display_data"
    },
    {
     "data": {
      "image/png": "[encoded data removed]",
      "text/plain": [
       "<Figure size 640x480 with 1 Axes>"
      ]
     },
     "metadata": {},
     "output_type": "display_data"
    }
   ],
   "source": [
    "#pandas testing and intellisense testing lmao\n",
    "import pandas as pd\n",
    "df_pandas = pd.DataFrame({\n",
    "    \"People\": [\"John\", \"Jack\"],\n",
    "    \"Ages\": [20, 30]\n",
    "})\n",
    "\n",
    "df_pandas.plot(kind=\"scatter\", x=\"Ages\", y=\"People\")\n",
    "df_pandas.plot.hist()"
   ]
  },
  {
   "cell_type": "code",
   "execution_count": 3,
   "metadata": {},
   "outputs": [],
   "source": [
    "#Non Master-Node Setup (Local Setup)\n",
    "\n",
    "from pyspark.sql import SparkSession\n",
    "\n",
    "# Spark session & context\n",
    "spark = SparkSession.builder.master(\"local\").getOrCreate()\n",
    "sc = spark.sparkContext"
   ]
  },
  {
   "cell_type": "code",
   "execution_count": 3,
   "metadata": {},
   "outputs": [],
   "source": [
    "\n",
    "#Alternative - Master-Node Setup - works April 27 2023\n",
    "\n",
    "#? findspark doesn't seem required??\n",
    "import findspark\n",
    "findspark.init('C:\\BigDataLocalSetup\\spark')\n",
    "\n",
    "\n",
    "#! OLD SYNTAX\n",
    "# from pyspark import SparkConf\n",
    "# from pyspark import SparkContext\n",
    "\n",
    "# conf = SparkConf()\n",
    "# conf.setMaster('spark://10.5.0.2:7077')\n",
    "# conf.setAppName('spark-basic')\n",
    "# sc = SparkContext(conf=conf)\n",
    "\n",
    "\n",
    "#? New Syntax!\n",
    "\n",
    "from pyspark.sql import SparkSession\n",
    "\n",
    "spark = SparkSession.builder \\\n",
    "                    .master('spark://10.5.0.2:7077') \\\n",
    "                    .appName('Vlad is cool') \\\n",
    "                    .getOrCreate()\n",
    "\n",
    "\n"
   ]
  },
  {
   "attachments": {},
   "cell_type": "markdown",
   "metadata": {},
   "source": [
    "### Load a CSV and give it column names whoaaa"
   ]
  },
  {
   "cell_type": "code",
   "execution_count": 4,
   "metadata": {},
   "outputs": [
    {
     "name": "stdout",
     "output_type": "stream",
     "text": [
      "+-------------+---+---------+--------+-----------+\n",
      "|      address|age|firstName|lastName|phoneNumber|\n",
      "+-------------+---+---------+--------+-----------+\n",
      "|  123 Main St| 25|     John|   Smith|   555-1234|\n",
      "|  456 Oak Ave| 35|     Jane|     Doe|   555-5678|\n",
      "|  789 Pine St| 42|      Bob| Johnson|   555-9012|\n",
      "|   321 Elm St| 29|     Mary|   Jones|   555-3456|\n",
      "|987 Cherry Ln| 47|    Steve|   Brown|   555-7890|\n",
      "+-------------+---+---------+--------+-----------+\n",
      "only showing top 5 rows\n",
      "\n"
     ]
    }
   ],
   "source": [
    "#rdd = spark.sparkContext.textFile(r'/home/jovyan/work/people.txt')\n",
    "\n",
    "#rdd = sc.textFile(r'people.txt')\n",
    "# rdd = spark.sparkContext.textFile(r'H:\\My Drive\\Data Analyst Prep\\!Programming Files\\Python Projects\\PySpark Notebooks\\people.txt')\n",
    "\n",
    "\n",
    "# # Extract the column names from the first line\n",
    "# header = rdd.first().split(\",\")\n",
    "\n",
    "# # Remove the header line from the RDD\n",
    "# data = rdd.filter(lambda line: line != header)\n",
    "\n",
    "# # Convert the RDD to a DataFrame\n",
    "# df = data.map(lambda line: line.split(\",\")).toDF(header)\n",
    "\n",
    "\n",
    "#df = spark.read.csv(\"./test1.csv\", header=True, inferSchema=True)\n",
    "\n",
    "\n",
    "\n",
    "df = spark.read.csv(\"./people.txt\", header=True, inferSchema=True)\n",
    "\n",
    "# Show the DataFrame\n",
    "df.show(5)\n"
   ]
  },
  {
   "cell_type": "code",
   "execution_count": 4,
   "metadata": {},
   "outputs": [
    {
     "name": "stdout",
     "output_type": "stream",
     "text": [
      "+-------------+---+-----------+--------+-----------+\n",
      "|      address|age|  firstName|lastName|phoneNumber|\n",
      "+-------------+---+-----------+--------+-----------+\n",
      "|  123 Main St| 25|       John|   Smith|   555-1234|\n",
      "|  456 Oak Ave| 35|       Jane|     Doe|   555-5678|\n",
      "|  789 Pine St| 42|        Bob| Johnson|   555-9012|\n",
      "|   321 Elm St| 29|       Mary|   Jones|   555-3456|\n",
      "|987 Cherry Ln| 47|      Steve|   Brown|   555-7890|\n",
      "|654 Maple Ave| 31|       Sara|  Miller|   555-2345|\n",
      "|  321 Pine St| 38|      David| Roberts|   555-6789|\n",
      "|   456 Oak St| 22|      Kelly|Williams|   555-0123|\n",
      "|  123 Elm Ave| 55|      James| Johnson|   555-4567|\n",
      "| 789 Maple St| 27|      Emily|     Lee|   555-8901|\n",
      "|654 Cherry Ln| 41|       Ryan|  Wilson|   555-2345|\n",
      "|  987 Main St| 33|        Amy|   Lewis|   555-6789|\n",
      "|  321 Oak Ave| 48|     Andrew|   Green|   555-0123|\n",
      "|  456 Pine St| 26|   Michelle|  Carter|   555-4567|\n",
      "|   789 Elm St| 36|      Jason|Phillips|   555-8901|\n",
      "|  654 Main St| 50|  Stephanie|Campbell|   555-2345|\n",
      "|321 Maple Ave| 24|Christopher|  Martin|   555-6789|\n",
      "|  987 Pine St| 39|  Katherine|  Murphy|   555-0123|\n",
      "|   456 Elm St| 28|    Brandon|Gonzalez|   555-4567|\n",
      "|  123 Oak Ave| 44|     Ashley|  Nelson|   555-8901|\n",
      "+-------------+---+-----------+--------+-----------+\n",
      "only showing top 20 rows\n",
      "\n"
     ]
    }
   ],
   "source": [
    "df.show()"
   ]
  },
  {
   "cell_type": "code",
   "execution_count": 5,
   "metadata": {},
   "outputs": [
    {
     "name": "stdout",
     "output_type": "stream",
     "text": [
      "+-------------+---+---------+--------+-----------+\n",
      "|      address|age|firstName|lastName|phoneNumber|\n",
      "+-------------+---+---------+--------+-----------+\n",
      "|  789 Pine St| 42|      Bob| Johnson|   555-9012|\n",
      "|987 Cherry Ln| 47|    Steve|   Brown|   555-7890|\n",
      "|  123 Elm Ave| 55|    James| Johnson|   555-4567|\n",
      "|654 Cherry Ln| 41|     Ryan|  Wilson|   555-2345|\n",
      "|  321 Oak Ave| 48|   Andrew|   Green|   555-0123|\n",
      "|  654 Main St| 50|Stephanie|Campbell|   555-2345|\n",
      "|  123 Oak Ave| 44|   Ashley|  Nelson|   555-8901|\n",
      "|  654 Pine St| 51|   Lauren|   Allen|   555-6789|\n",
      "|123 Maple Ave| 45|     Tara|  Walker|   555-2345|\n",
      "|  654 Main St| 52| Kimberly|    Hall|   555-0123|\n",
      "+-------------+---+---------+--------+-----------+\n",
      "\n"
     ]
    }
   ],
   "source": [
    "#Filter by age\n",
    "df.filter(df[\"age\"]>40).show()"
   ]
  },
  {
   "attachments": {},
   "cell_type": "markdown",
   "metadata": {},
   "source": [
    "### Get Rid of Duplicates1"
   ]
  },
  {
   "cell_type": "code",
   "execution_count": 6,
   "metadata": {},
   "outputs": [
    {
     "name": "stdout",
     "output_type": "stream",
     "text": [
      "+-------------+---+-----------+--------+-----------+\n",
      "|      address|age|  firstName|lastName|phoneNumber|\n",
      "+-------------+---+-----------+--------+-----------+\n",
      "|  456 Oak Ave| 29|      Brian|   Scott|   555-8901|\n",
      "|987 Cherry Ln| 47|      Steve|   Brown|   555-7890|\n",
      "|321 Maple Ave| 24|Christopher|  Martin|   555-6789|\n",
      "|   321 Elm St| 23|     Joshua|    King|   555-0123|\n",
      "|  123 Elm Ave| 55|      James| Johnson|   555-4567|\n",
      "|   321 Elm St| 29|       Mary|   Jones|   555-3456|\n",
      "|654 Maple Ave| 31|       Sara|  Miller|   555-2345|\n",
      "|   789 Elm St| 30|   Nicholas|   Perez|   555-6789|\n",
      "| 789 Maple St| 27|      Emily|     Lee|   555-8901|\n",
      "|  456 Pine St| 26|   Michelle|  Carter|   555-4567|\n",
      "|   789 Elm St| 36|      Jason|Phillips|   555-8901|\n",
      "|   456 Elm St| 28|    Brandon|Gonzalez|   555-4567|\n",
      "|  321 Pine St| 26|     Amanda|   Young|   555-4567|\n",
      "|  456 Oak Ave| 35|       Jane|     Doe|   555-5678|\n",
      "|  321 Oak Ave| 48|     Andrew|   Green|   555-0123|\n",
      "|  654 Main St| 52|   Kimberly|    Hall|   555-0123|\n",
      "|  321 Pine St| 38|      David| Roberts|   555-6789|\n",
      "|  654 Pine St| 51|     Lauren|   Allen|   555-6789|\n",
      "|  987 Main St| 33|        Amy|   Lewis|   555-6789|\n",
      "|123 Maple Ave| 45|       Tara|  Walker|   555-2345|\n",
      "+-------------+---+-----------+--------+-----------+\n",
      "only showing top 20 rows\n",
      "\n"
     ]
    }
   ],
   "source": [
    "df = df.drop_duplicates\n",
    "df.show()"
   ]
  },
  {
   "cell_type": "code",
   "execution_count": 4,
   "metadata": {},
   "outputs": [
    {
     "name": "stdout",
     "output_type": "stream",
     "text": [
      "+-------------+-----------+\n",
      "|      address|  firstName|\n",
      "+-------------+-----------+\n",
      "|  123 Main St|       John|\n",
      "|  456 Oak Ave|       Jane|\n",
      "|  789 Pine St|        Bob|\n",
      "|   321 Elm St|       Mary|\n",
      "|987 Cherry Ln|      Steve|\n",
      "|654 Maple Ave|       Sara|\n",
      "|  321 Pine St|      David|\n",
      "|   456 Oak St|      Kelly|\n",
      "|  123 Elm Ave|      James|\n",
      "| 789 Maple St|      Emily|\n",
      "|654 Cherry Ln|       Ryan|\n",
      "|  987 Main St|        Amy|\n",
      "|  321 Oak Ave|     Andrew|\n",
      "|  456 Pine St|   Michelle|\n",
      "|   789 Elm St|      Jason|\n",
      "|  654 Main St|  Stephanie|\n",
      "|321 Maple Ave|Christopher|\n",
      "|  987 Pine St|  Katherine|\n",
      "|   456 Elm St|    Brandon|\n",
      "|  123 Oak Ave|     Ashley|\n",
      "+-------------+-----------+\n",
      "only showing top 20 rows\n",
      "\n"
     ]
    }
   ],
   "source": [
    "\n",
    "#df.select(\"address\").show()\n",
    "df.select(\"address\", \"firstName\").show()\n"
   ]
  },
  {
   "cell_type": "code",
   "execution_count": 6,
   "metadata": {},
   "outputs": [
    {
     "name": "stdout",
     "output_type": "stream",
     "text": [
      "+-----------+\n",
      "|(age + 100)|\n",
      "+-----------+\n",
      "|        125|\n",
      "|        135|\n",
      "|        142|\n",
      "|        129|\n",
      "|        147|\n",
      "|        131|\n",
      "|        138|\n",
      "|        122|\n",
      "|        155|\n",
      "|        127|\n",
      "|        141|\n",
      "|        133|\n",
      "|        148|\n",
      "|        126|\n",
      "|        136|\n",
      "|        150|\n",
      "|        124|\n",
      "|        139|\n",
      "|        128|\n",
      "|        144|\n",
      "+-----------+\n",
      "only showing top 20 rows\n",
      "\n"
     ]
    },
    {
     "data": {
      "text/plain": [
       "DataFrame[address: string, age: int, firstName: string, lastName: string, phoneNumber: string]"
      ]
     },
     "execution_count": 6,
     "metadata": {},
     "output_type": "execute_result"
    }
   ],
   "source": [
    "# Add Values\n",
    "df.select(df[\"age\"] + 100).show()"
   ]
  },
  {
   "cell_type": "code",
   "execution_count": null,
   "metadata": {},
   "outputs": [],
   "source": []
  },
  {
   "attachments": {},
   "cell_type": "markdown",
   "metadata": {},
   "source": [
    "### Using Explode with Pyspark - Separate Phone Numbers into individual parts lines.\n",
    "### We will use withColumn to create a new column called 'parts'"
   ]
  },
  {
   "cell_type": "code",
   "execution_count": 5,
   "metadata": {},
   "outputs": [
    {
     "name": "stdout",
     "output_type": "stream",
     "text": [
      "+-------------+---+---------+--------+-----------+\n",
      "|      address|age|firstName|lastName|phoneNumber|\n",
      "+-------------+---+---------+--------+-----------+\n",
      "|  123 Main St| 25|     John|   Smith|        555|\n",
      "|  123 Main St| 25|     John|   Smith|       1234|\n",
      "|  456 Oak Ave| 35|     Jane|     Doe|        555|\n",
      "|  456 Oak Ave| 35|     Jane|     Doe|       5678|\n",
      "|  789 Pine St| 42|      Bob| Johnson|        555|\n",
      "|  789 Pine St| 42|      Bob| Johnson|       9012|\n",
      "|   321 Elm St| 29|     Mary|   Jones|        555|\n",
      "|   321 Elm St| 29|     Mary|   Jones|       3456|\n",
      "|987 Cherry Ln| 47|    Steve|   Brown|        555|\n",
      "|987 Cherry Ln| 47|    Steve|   Brown|       7890|\n",
      "|654 Maple Ave| 31|     Sara|  Miller|        555|\n",
      "|654 Maple Ave| 31|     Sara|  Miller|       2345|\n",
      "|  321 Pine St| 38|    David| Roberts|        555|\n",
      "|  321 Pine St| 38|    David| Roberts|       6789|\n",
      "|   456 Oak St| 22|    Kelly|Williams|        555|\n",
      "|   456 Oak St| 22|    Kelly|Williams|       0123|\n",
      "|  123 Elm Ave| 55|    James| Johnson|        555|\n",
      "|  123 Elm Ave| 55|    James| Johnson|       4567|\n",
      "| 789 Maple St| 27|    Emily|     Lee|        555|\n",
      "| 789 Maple St| 27|    Emily|     Lee|       8901|\n",
      "+-------------+---+---------+--------+-----------+\n",
      "only showing top 20 rows\n",
      "\n"
     ]
    }
   ],
   "source": [
    "#Explode in Pyspark to split the phone number into rows\n",
    "from pyspark.sql.functions import split, explode\n",
    "df_split = df.withColumn('parts', split('phoneNumber', '-'))\n",
    "#df_split.show()\n",
    "exploded = df_split.withColumn('parts', explode('parts'))\n",
    "#exploded.show()\n",
    "\n",
    "#Here's how we can separate the phoneNumber into a list or phonenumbers, in place.\n",
    "df_test = df.withColumn(\"phoneNumber\", split(df[\"phoneNumber\"], \"-\"))\n",
    "#df_test.show()\n",
    "\n",
    "\n",
    "df_test_exploded = df_test.withColumn('phoneNumber', explode('phoneNumber'))\n",
    "df_test_exploded.show()"
   ]
  },
  {
   "cell_type": "code",
   "execution_count": 18,
   "metadata": {},
   "outputs": [
    {
     "name": "stdout",
     "output_type": "stream",
     "text": [
      "+-------------+---+----------+\n",
      "|      address|age|split nums|\n",
      "+-------------+---+----------+\n",
      "|  123 Main St| 25|       555|\n",
      "|  123 Main St| 25|      1234|\n",
      "|  456 Oak Ave| 35|       555|\n",
      "|  456 Oak Ave| 35|      5678|\n",
      "|  789 Pine St| 42|       555|\n",
      "|  789 Pine St| 42|      9012|\n",
      "|   321 Elm St| 29|       555|\n",
      "|   321 Elm St| 29|      3456|\n",
      "|987 Cherry Ln| 47|       555|\n",
      "|987 Cherry Ln| 47|      7890|\n",
      "|654 Maple Ave| 31|       555|\n",
      "|654 Maple Ave| 31|      2345|\n",
      "|  321 Pine St| 38|       555|\n",
      "|  321 Pine St| 38|      6789|\n",
      "|   456 Oak St| 22|       555|\n",
      "|   456 Oak St| 22|      0123|\n",
      "|  123 Elm Ave| 55|       555|\n",
      "|  123 Elm Ave| 55|      4567|\n",
      "| 789 Maple St| 27|       555|\n",
      "| 789 Maple St| 27|      8901|\n",
      "+-------------+---+----------+\n",
      "only showing top 20 rows\n",
      "\n"
     ]
    }
   ],
   "source": [
    "#Using ALIAS to rename the column.\n",
    "#Using Explode \n",
    "\n",
    "df_test.select(\"address\", \"age\", explode(\"phoneNumber\").alias(\"split nums\")).show()"
   ]
  },
  {
   "attachments": {},
   "cell_type": "markdown",
   "metadata": {},
   "source": [
    "### Renaming columns (different from alias, which is just for explode)"
   ]
  },
  {
   "cell_type": "code",
   "execution_count": 21,
   "metadata": {},
   "outputs": [
    {
     "name": "stdout",
     "output_type": "stream",
     "text": [
      "+-------------+---+------------+\n",
      "|      Address|Age|Phone Number|\n",
      "+-------------+---+------------+\n",
      "|  123 Main St| 25|    555-1234|\n",
      "|  456 Oak Ave| 35|    555-5678|\n",
      "|  789 Pine St| 42|    555-9012|\n",
      "|   321 Elm St| 29|    555-3456|\n",
      "|987 Cherry Ln| 47|    555-7890|\n",
      "|654 Maple Ave| 31|    555-2345|\n",
      "|  321 Pine St| 38|    555-6789|\n",
      "|   456 Oak St| 22|    555-0123|\n",
      "|  123 Elm Ave| 55|    555-4567|\n",
      "| 789 Maple St| 27|    555-8901|\n",
      "|654 Cherry Ln| 41|    555-2345|\n",
      "|  987 Main St| 33|    555-6789|\n",
      "|  321 Oak Ave| 48|    555-0123|\n",
      "|  456 Pine St| 26|    555-4567|\n",
      "|   789 Elm St| 36|    555-8901|\n",
      "|  654 Main St| 50|    555-2345|\n",
      "|321 Maple Ave| 24|    555-6789|\n",
      "|  987 Pine St| 39|    555-0123|\n",
      "|   456 Elm St| 28|    555-4567|\n",
      "|  123 Oak Ave| 44|    555-8901|\n",
      "+-------------+---+------------+\n",
      "only showing top 20 rows\n",
      "\n"
     ]
    }
   ],
   "source": [
    "\n",
    "#derp method\n",
    "#df.withColumnRenamed(\"address\", \"Address\").withColumnRenamed(\"age\", \"Age\").withColumnRenamed(\"phoneNumber\", \"Phone Number\")\n",
    "\n",
    "#pro method\n",
    "df_selected = df.select(\"address\", \"age\", \"phoneNumber\")\n",
    "new_columns = [\"Address\", \"Age\", \"Phone Number\"]\n",
    "df_selected.toDF(*new_columns).show()"
   ]
  },
  {
   "cell_type": "code",
   "execution_count": 53,
   "metadata": {},
   "outputs": [
    {
     "name": "stdout",
     "output_type": "stream",
     "text": [
      "+---------+--------------------------------------+\n",
      "|firstName|CASE WHEN (age > 30) THEN 1 ELSE 0 END|\n",
      "+---------+--------------------------------------+\n",
      "|     Sara|                                     1|\n",
      "|    Steve|                                     1|\n",
      "|     Tara|                                     1|\n",
      "|firstName|                                     0|\n",
      "|      Bob|                                     1|\n",
      "|   Joshua|                                     0|\n",
      "|    Brian|                                     0|\n",
      "|     Jane|                                     1|\n",
      "|    James|                                     1|\n",
      "|    Kelly|                                     0|\n",
      "| Danielle|                                     1|\n",
      "|     Mary|                                     0|\n",
      "|     John|                                     0|\n",
      "|   Amanda|                                     0|\n",
      "| Nicholas|                                     0|\n",
      "| Kimberly|                                     1|\n",
      "|    David|                                     1|\n",
      "+---------+--------------------------------------+\n",
      "\n"
     ]
    }
   ],
   "source": [
    "#WHEN Show firstName and 0 or 1 depending on age > 30\n",
    "#CASE WHEN (age > 30) THEN 1 ELSE 0 END\n",
    "from pyspark.sql import functions as F\n",
    "df.select(\"firstName\", F.when(df.age > 30, 1).otherwise(0)).show()"
   ]
  },
  {
   "cell_type": "markdown",
   "metadata": {},
   "source": [
    "### Name Like - like \"contains\".\n",
    "Case Sensitive !"
   ]
  },
  {
   "cell_type": "code",
   "execution_count": 30,
   "metadata": {},
   "outputs": [
    {
     "name": "stdout",
     "output_type": "stream",
     "text": [
      "+-----------+---+---------+--------+-----------+\n",
      "|    address|age|firstName|lastName|phoneNumber|\n",
      "+-----------+---+---------+--------+-----------+\n",
      "|123 Main St| 25|     John|   Smith|   555-1234|\n",
      "+-----------+---+---------+--------+-----------+\n",
      "\n"
     ]
    }
   ],
   "source": [
    "#df[df.firstName.like(\"John\")].show()\n",
    "#df.select(\"firstName\", df.lastName.like(\"smith\")).show()\n",
    "df[df.lastName.contains(\"Smith\")].show()"
   ]
  },
  {
   "attachments": {},
   "cell_type": "markdown",
   "metadata": {},
   "source": [
    "### Startswith, Endswith"
   ]
  },
  {
   "cell_type": "code",
   "execution_count": 34,
   "metadata": {},
   "outputs": [
    {
     "name": "stdout",
     "output_type": "stream",
     "text": [
      "+-----------+---+---------+--------+-----------+\n",
      "|    address|age|firstName|lastName|phoneNumber|\n",
      "+-----------+---+---------+--------+-----------+\n",
      "|123 Main St| 25|     John|   Smith|   555-1234|\n",
      "+-----------+---+---------+--------+-----------+\n",
      "\n"
     ]
    }
   ],
   "source": [
    "#df.select(\"lastName\", df.lastName.startswith(\"Sm\")).show()\n",
    "#df.select(df.lastName.endswith(\"th\")).show() #Show last names ending in \n",
    "df[df.lastName.startswith(\"Sm\")].show()"
   ]
  },
  {
   "attachments": {},
   "cell_type": "markdown",
   "metadata": {},
   "source": [
    "### Use collect() to return a list from a column \n",
    "### .substr for substring grabbing (indexes are inclusive wtf)"
   ]
  },
  {
   "cell_type": "code",
   "execution_count": 48,
   "metadata": {},
   "outputs": [
    {
     "name": "stdout",
     "output_type": "stream",
     "text": [
      "<class 'list'>\n",
      "[Row(name='Joh'), Row(name='Jan'), Row(name='Bob'), Row(name='Mar'), Row(name='Ste'), Row(name='Sar'), Row(name='Dav'), Row(name='Kel'), Row(name='Jam'), Row(name='Emi'), Row(name='Rya'), Row(name='Amy'), Row(name='And'), Row(name='Mic'), Row(name='Jas'), Row(name='Ste'), Row(name='Chr'), Row(name='Kat'), Row(name='Bra'), Row(name='Ash'), Row(name='Mar'), Row(name='Lau'), Row(name='Jos'), Row(name='Dan'), Row(name='Bri'), Row(name='Tar'), Row(name='Nic'), Row(name='Kim'), Row(name='Ama')]\n"
     ]
    }
   ],
   "source": [
    "#df.select(df.firstName.substr(1, 3).alias(\"name\")).show()\n",
    "#df.select(df.firstName.substr(1, 3).alias(\"name\")).show()\n",
    "first3charslist = df.select(df.firstName.substr(1, 3).alias(\"name\")).collect()\n",
    "print(type(first3charslist))\n",
    "print(first3charslist)"
   ]
  },
  {
   "cell_type": "code",
   "execution_count": 50,
   "metadata": {},
   "outputs": [
    {
     "data": {
      "text/plain": [
       "[Row(firstName='John', lastName='Smith', age=25),\n",
       " Row(firstName='Jane', lastName='Doe', age=35),\n",
       " Row(firstName='Bob', lastName='Johnson', age=42),\n",
       " Row(firstName='Mary', lastName='Jones', age=29),\n",
       " Row(firstName='Steve', lastName='Brown', age=47),\n",
       " Row(firstName='Sara', lastName='Miller', age=31),\n",
       " Row(firstName='David', lastName='Roberts', age=38),\n",
       " Row(firstName='Kelly', lastName='Williams', age=22),\n",
       " Row(firstName='James', lastName='Johnson', age=55),\n",
       " Row(firstName='Emily', lastName='Lee', age=27),\n",
       " Row(firstName='Ryan', lastName='Wilson', age=41),\n",
       " Row(firstName='Amy', lastName='Lewis', age=33),\n",
       " Row(firstName='Andrew', lastName='Green', age=48),\n",
       " Row(firstName='Michelle', lastName='Carter', age=26),\n",
       " Row(firstName='Jason', lastName='Phillips', age=36),\n",
       " Row(firstName='Stephanie', lastName='Campbell', age=50),\n",
       " Row(firstName='Christopher', lastName='Martin', age=24),\n",
       " Row(firstName='Katherine', lastName='Murphy', age=39),\n",
       " Row(firstName='Brandon', lastName='Gonzalez', age=28),\n",
       " Row(firstName='Ashley', lastName='Nelson', age=44),\n",
       " Row(firstName='Mark', lastName='Garcia', age=32),\n",
       " Row(firstName='Lauren', lastName='Allen', age=51),\n",
       " Row(firstName='Joshua', lastName='King', age=23),\n",
       " Row(firstName='Danielle', lastName='Wright', age=37),\n",
       " Row(firstName='Brian', lastName='Scott', age=29),\n",
       " Row(firstName='Tara', lastName='Walker', age=45),\n",
       " Row(firstName='Nicholas', lastName='Perez', age=30),\n",
       " Row(firstName='Kimberly', lastName='Hall', age=52),\n",
       " Row(firstName='Amanda', lastName='Young', age=26)]"
      ]
     },
     "execution_count": 50,
     "metadata": {},
     "output_type": "execute_result"
    }
   ],
   "source": [
    "df_list = df.select(df.firstName, df.lastName, df.age).collect()\n",
    "df_list"
   ]
  },
  {
   "cell_type": "code",
   "execution_count": 69,
   "metadata": {},
   "outputs": [
    {
     "name": "stdout",
     "output_type": "stream",
     "text": [
      "+-----------------------------+\n",
      "|((age >= 22) AND (age <= 26))|\n",
      "+-----------------------------+\n",
      "|                        false|\n",
      "|                        false|\n",
      "|                        false|\n",
      "|                         null|\n",
      "|                        false|\n",
      "|                         true|\n",
      "|                        false|\n",
      "|                        false|\n",
      "|                        false|\n",
      "|                         true|\n",
      "|                        false|\n",
      "|                        false|\n",
      "|                         true|\n",
      "|                         true|\n",
      "|                        false|\n",
      "|                        false|\n",
      "|                        false|\n",
      "+-----------------------------+\n",
      "\n"
     ]
    }
   ],
   "source": [
    "#Between\n",
    "df.select(df.age.between(22, 26)).show()"
   ]
  },
  {
   "cell_type": "code",
   "execution_count": 79,
   "metadata": {},
   "outputs": [
    {
     "name": "stdout",
     "output_type": "stream",
     "text": [
      "+-------------+---+---------+--------+-----------+\n",
      "|      address|age|firstName|lastName|phoneNumber|\n",
      "+-------------+---+---------+--------+-----------+\n",
      "|654 Maple Ave| 31|     Sara|  Miller|   555-2345|\n",
      "|987 Cherry Ln| 47|    Steve|   Brown|   555-7890|\n",
      "|123 Maple Ave| 45|     Tara|  Walker|   555-2345|\n",
      "|      address|age|firstName|lastName|phoneNumber|\n",
      "|  789 Pine St| 42|      Bob| Johnson|   555-9012|\n",
      "|   321 Elm St| 23|   Joshua|    King|   555-0123|\n",
      "|  456 Oak Ave| 29|    Brian|   Scott|   555-8901|\n",
      "|  456 Oak Ave| 35|     Jane|     Doe|   555-5678|\n",
      "|  123 Elm Ave| 55|    James| Johnson|   555-4567|\n",
      "|   456 Oak St| 22|    Kelly|Williams|   555-0123|\n",
      "|  987 Main St| 37| Danielle|  Wright|   555-4567|\n",
      "|   321 Elm St| 29|     Mary|   Jones|   555-3456|\n",
      "|  123 Main St| 25|     John|   Smith|   555-1234|\n",
      "|  321 Pine St| 26|   Amanda|   Young|   555-4567|\n",
      "|   789 Elm St| 30| Nicholas|   Perez|   555-6789|\n",
      "|  654 Main St| 52| Kimberly|    Hall|   555-0123|\n",
      "|  321 Pine St| 38|    David| Roberts|   555-6789|\n",
      "+-------------+---+---------+--------+-----------+\n",
      "\n"
     ]
    }
   ],
   "source": [
    "df = df.withColumnRenamed('phoneNumber', 'aWOOOOOO56709')\n",
    "df = df.withColumnRenamed('aWOOOOOO56709', 'phoneNumber') #change it back\n",
    "df.show()"
   ]
  },
  {
   "cell_type": "code",
   "execution_count": 51,
   "metadata": {},
   "outputs": [
    {
     "name": "stdout",
     "output_type": "stream",
     "text": [
      "+---+---------+--------+\n",
      "|age|firstName|lastName|\n",
      "+---+---------+--------+\n",
      "| 25|     John|   Smith|\n",
      "| 35|     Jane|     Doe|\n",
      "| 42|      Bob| Johnson|\n",
      "| 29|     Mary|   Jones|\n",
      "| 47|    Steve|   Brown|\n",
      "+---+---------+--------+\n",
      "only showing top 5 rows\n",
      "\n",
      "+---+---------+\n",
      "|age|firstName|\n",
      "+---+---------+\n",
      "| 25|     John|\n",
      "| 35|     Jane|\n",
      "| 42|      Bob|\n",
      "| 29|     Mary|\n",
      "| 47|    Steve|\n",
      "+---+---------+\n",
      "only showing top 5 rows\n",
      "\n"
     ]
    }
   ],
   "source": [
    "#Remove columns\n",
    "cols_to_drop = ['address', 'phoneNumber']\n",
    "df_temp = df.drop(*cols_to_drop)\n",
    "\n",
    "df_temp = df.drop(\"address\", \"phoneNumber\") \n",
    "df_temp.show(5)\n",
    "\n",
    "\n",
    "df_temp2 = df.drop(df.address).drop(df.phoneNumber).drop(df.lastName)\n",
    "df_temp2.show(5)"
   ]
  },
  {
   "attachments": {},
   "cell_type": "markdown",
   "metadata": {},
   "source": [
    "### Missing and Replacing Values"
   ]
  },
  {
   "cell_type": "code",
   "execution_count": 61,
   "metadata": {},
   "outputs": [
    {
     "name": "stdout",
     "output_type": "stream",
     "text": [
      "36.03448275862069\n",
      "+-----------------+\n",
      "|         mean_age|\n",
      "+-----------------+\n",
      "|36.03448275862069|\n",
      "+-----------------+\n",
      "\n"
     ]
    }
   ],
   "source": [
    "from pyspark.sql.functions import mean\n",
    "\n",
    "#df.na.fill(50).show(5) #Replace null values \n",
    "\n",
    "mean_age_value = df.select(mean('age'))\n",
    "print(mean_age_value)\n",
    "\n",
    "\n",
    "# mean_age = df.select(mean(df['Age']).alias('mean_age'))\n",
    "# mean_age.show()\n",
    "\n",
    "\n",
    "#df = df.fillna(mean('age'), subset=['Age'])\n",
    "\n",
    "#? idk what this is\n",
    "#df.na.drop().show(5) #Return new df omitting rows with null values\n",
    "#df.na.replace(31, 20).show(5) #Return new df replacing one value with another\n",
    "#df.show()"
   ]
  },
  {
   "attachments": {},
   "cell_type": "markdown",
   "metadata": {},
   "source": [
    "### Group by"
   ]
  },
  {
   "cell_type": "code",
   "execution_count": 96,
   "metadata": {},
   "outputs": [
    {
     "name": "stdout",
     "output_type": "stream",
     "text": [
      "+---+-----+\n",
      "|age|count|\n",
      "+---+-----+\n",
      "| 29|    2|\n",
      "| 42|    1|\n",
      "| 30|    1|\n",
      "| 22|    1|\n",
      "| 35|    1|\n",
      "| 52|    1|\n",
      "| 47|    1|\n",
      "| 31|    1|\n",
      "| 26|    4|\n",
      "| 23|    1|\n",
      "| 55|    1|\n",
      "| 38|    1|\n",
      "| 25|    1|\n",
      "|age|    1|\n",
      "| 37|    1|\n",
      "| 45|    1|\n",
      "+---+-----+\n",
      "\n"
     ]
    }
   ],
   "source": [
    "df.groupBy(\"age\").count().show() #Group by age, count the members in the groups\n"
   ]
  },
  {
   "attachments": {},
   "cell_type": "markdown",
   "metadata": {},
   "source": [
    "Sort and order by values"
   ]
  },
  {
   "cell_type": "code",
   "execution_count": 103,
   "metadata": {},
   "outputs": [
    {
     "name": "stdout",
     "output_type": "stream",
     "text": [
      "+-------------+---+---------+--------+-----------+\n",
      "|      address|age|firstName|lastName|phoneNumber|\n",
      "+-------------+---+---------+--------+-----------+\n",
      "|      address|age|firstName|lastName|phoneNumber|\n",
      "|  123 Elm Ave| 55|    James| Johnson|   555-4567|\n",
      "|  654 Main St| 52| Kimberly|    Hall|   555-0123|\n",
      "|987 Cherry Ln| 47|    Steve|   Brown|   555-7890|\n",
      "|123 Maple Ave| 45|     Tara|  Walker|   555-2345|\n",
      "+-------------+---+---------+--------+-----------+\n",
      "only showing top 5 rows\n",
      "\n",
      "+-------------+---+---------+--------+-----------+\n",
      "|      address|age|firstName|lastName|phoneNumber|\n",
      "+-------------+---+---------+--------+-----------+\n",
      "|      address|age|firstName|lastName|phoneNumber|\n",
      "|  123 Elm Ave| 55|    James| Johnson|   555-4567|\n",
      "|  654 Main St| 52| Kimberly|    Hall|   555-0123|\n",
      "|987 Cherry Ln| 47|    Steve|   Brown|   555-7890|\n",
      "|123 Maple Ave| 45|     Tara|  Walker|   555-2345|\n",
      "+-------------+---+---------+--------+-----------+\n",
      "only showing top 5 rows\n",
      "\n",
      "+-------------+---+---------+--------+-----------+\n",
      "|      address|age|firstName|lastName|phoneNumber|\n",
      "+-------------+---+---------+--------+-----------+\n",
      "|      address|age|firstName|lastName|phoneNumber|\n",
      "|  123 Elm Ave| 55|    James| Johnson|   555-4567|\n",
      "|  654 Main St| 52| Kimberly|    Hall|   555-0123|\n",
      "|987 Cherry Ln| 47|    Steve|   Brown|   555-7890|\n",
      "|123 Maple Ave| 45|     Tara|  Walker|   555-2345|\n",
      "+-------------+---+---------+--------+-----------+\n",
      "only showing top 5 rows\n",
      "\n"
     ]
    }
   ],
   "source": [
    "df.sort(df.age.desc()).show(5)\n",
    "df.sort(\"age\", ascending=False).show(5) \n",
    "df.orderBy([\"age\",\"lastName\"],ascending=[0,1]).show(5)"
   ]
  },
  {
   "attachments": {},
   "cell_type": "markdown",
   "metadata": {},
   "source": [
    "### Repartitioning (idk lol)"
   ]
  },
  {
   "cell_type": "code",
   "execution_count": null,
   "metadata": {},
   "outputs": [],
   "source": [
    "df.repartition(10).rdd.getNumPartitions() #df with 10 partitions\n",
    "df.coalesce(1).rdd.getNumPartitions() #df with 1 partition`"
   ]
  },
  {
   "attachments": {},
   "cell_type": "markdown",
   "metadata": {},
   "source": [
    "### Registering Dataframes as Views"
   ]
  },
  {
   "cell_type": "code",
   "execution_count": 108,
   "metadata": {},
   "outputs": [
    {
     "name": "stdout",
     "output_type": "stream",
     "text": [
      "+-------------+---+---------+--------+-----------+\n",
      "|      address|age|firstName|lastName|phoneNumber|\n",
      "+-------------+---+---------+--------+-----------+\n",
      "|      address|age|firstName|lastName|phoneNumber|\n",
      "|  123 Main St| 25|     John|   Smith|   555-1234|\n",
      "|  456 Oak Ave| 35|     Jane|     Doe|   555-5678|\n",
      "|  789 Pine St| 42|      Bob| Johnson|   555-9012|\n",
      "|   321 Elm St| 29|     Mary|   Jones|   555-3456|\n",
      "|987 Cherry Ln| 47|    Steve|   Brown|   555-7890|\n",
      "|654 Maple Ave| 31|     Sara|  Miller|   555-2345|\n",
      "|  321 Pine St| 38|    David| Roberts|   555-6789|\n",
      "|   456 Oak St| 22|    Kelly|Williams|   555-0123|\n",
      "|  123 Elm Ave| 55|    James| Johnson|   555-4567|\n",
      "|   321 Elm St| 23|   Joshua|    King|   555-0123|\n",
      "|  987 Main St| 37| Danielle|  Wright|   555-4567|\n",
      "|  456 Oak Ave| 29|    Brian|   Scott|   555-8901|\n",
      "|123 Maple Ave| 45|     Tara|  Walker|   555-2345|\n",
      "|   789 Elm St| 30| Nicholas|   Perez|   555-6789|\n",
      "|  654 Main St| 52| Kimberly|    Hall|   555-0123|\n",
      "|  321 Pine St| 26|   Amanda|   Young|   555-4567|\n",
      "|  321 Pine St| 26|   Amanda|   Young|   555-4567|\n",
      "|  321 Pine St| 26|   Amanda|   Young|   555-4567|\n",
      "|  321 Pine St| 26|   Amanda|   Young|   555-4567|\n",
      "+-------------+---+---------+--------+-----------+\n",
      "\n",
      "+-------------+---+---------+--------+-----------+\n",
      "|      address|age|firstName|lastName|phoneNumber|\n",
      "+-------------+---+---------+--------+-----------+\n",
      "|      address|age|firstName|lastName|phoneNumber|\n",
      "|  123 Main St| 25|     John|   Smith|   555-1234|\n",
      "|  456 Oak Ave| 35|     Jane|     Doe|   555-5678|\n",
      "|  789 Pine St| 42|      Bob| Johnson|   555-9012|\n",
      "|   321 Elm St| 29|     Mary|   Jones|   555-3456|\n",
      "|987 Cherry Ln| 47|    Steve|   Brown|   555-7890|\n",
      "|654 Maple Ave| 31|     Sara|  Miller|   555-2345|\n",
      "|  321 Pine St| 38|    David| Roberts|   555-6789|\n",
      "|   456 Oak St| 22|    Kelly|Williams|   555-0123|\n",
      "|  123 Elm Ave| 55|    James| Johnson|   555-4567|\n",
      "|   321 Elm St| 23|   Joshua|    King|   555-0123|\n",
      "|  987 Main St| 37| Danielle|  Wright|   555-4567|\n",
      "|  456 Oak Ave| 29|    Brian|   Scott|   555-8901|\n",
      "|123 Maple Ave| 45|     Tara|  Walker|   555-2345|\n",
      "|   789 Elm St| 30| Nicholas|   Perez|   555-6789|\n",
      "|  654 Main St| 52| Kimberly|    Hall|   555-0123|\n",
      "|  321 Pine St| 26|   Amanda|   Young|   555-4567|\n",
      "|  321 Pine St| 26|   Amanda|   Young|   555-4567|\n",
      "|  321 Pine St| 26|   Amanda|   Young|   555-4567|\n",
      "|  321 Pine St| 26|   Amanda|   Young|   555-4567|\n",
      "+-------------+---+---------+--------+-----------+\n",
      "\n"
     ]
    },
    {
     "name": "stderr",
     "output_type": "stream",
     "text": [
      "----------------------------------------\n",
      "Exception occurred during processing of request from ('127.0.0.1', 46584)\n",
      "Traceback (most recent call last):\n",
      "  File \"/opt/conda/lib/python3.10/socketserver.py\", line 316, in _handle_request_noblock\n",
      "    self.process_request(request, client_address)\n",
      "  File \"/opt/conda/lib/python3.10/socketserver.py\", line 347, in process_request\n",
      "    self.finish_request(request, client_address)\n",
      "  File \"/opt/conda/lib/python3.10/socketserver.py\", line 360, in finish_request\n",
      "    self.RequestHandlerClass(request, client_address, self)\n",
      "  File \"/opt/conda/lib/python3.10/socketserver.py\", line 747, in __init__\n",
      "    self.handle()\n",
      "  File \"/usr/local/spark/python/pyspark/accumulators.py\", line 281, in handle\n",
      "    poll(accum_updates)\n",
      "  File \"/usr/local/spark/python/pyspark/accumulators.py\", line 253, in poll\n",
      "    if func():\n",
      "  File \"/usr/local/spark/python/pyspark/accumulators.py\", line 257, in accum_updates\n",
      "    num_updates = read_int(self.rfile)\n",
      "  File \"/usr/local/spark/python/pyspark/serializers.py\", line 595, in read_int\n",
      "    raise EOFError\n",
      "EOFError\n",
      "----------------------------------------\n"
     ]
    }
   ],
   "source": [
    "#df.createGlobalTempView(\"people\") #commented out to avoid double execute\n",
    "#df.createTempView(\"customer\")  #commented out to avoid double execute\n",
    "df.createOrReplaceGlobalTempView(\"people\")\n",
    "df.createOrReplaceTempView(\"customer\")\n",
    "\n",
    "df_temp3 = spark.sql(\"SELECT * FROM customer\").show()\n",
    "df_temp4 = spark.sql(\"SELECT * FROM global_temp.people\").show()\n"
   ]
  },
  {
   "attachments": {},
   "cell_type": "markdown",
   "metadata": {},
   "source": [
    "### Inspect Data"
   ]
  },
  {
   "cell_type": "code",
   "execution_count": null,
   "metadata": {},
   "outputs": [],
   "source": [
    "df.dtypes #Return df column names and data types\n",
    "df.show() #Display the content of df\n",
    "df.head() #Return first n rows\n",
    "df.first() #Return first row\n",
    "df.take(2) #Return the first n rows \n",
    "df.schema Return the schema of df\n",
    "df.describe().show() #Compute summary statistics \n",
    "df.columns Return the columns of df\n",
    "df.count() #Count the number of rows in df\n",
    "df.distinct().count() #Count the number of distinct rows in df\n",
    "df.printSchema() #Print the schema of df\n",
    "df.explain() #Print the (logical and physical) plans`"
   ]
  },
  {
   "attachments": {},
   "cell_type": "markdown",
   "metadata": {},
   "source": [
    "### Output - convert to RDD, RDD of String, or to Pandas <3333"
   ]
  },
  {
   "cell_type": "code",
   "execution_count": null,
   "metadata": {},
   "outputs": [],
   "source": [
    "rdd1 = df.rdd #Convert df into an RDD \n",
    "df.toJSON().first() #Convert df into a RDD of string \n",
    "df.toPandas() #Return the contents of df as Pandas DataFrame"
   ]
  },
  {
   "attachments": {},
   "cell_type": "markdown",
   "metadata": {},
   "source": [
    "### Write and save files"
   ]
  },
  {
   "cell_type": "code",
   "execution_count": null,
   "metadata": {},
   "outputs": [],
   "source": [
    "df.select(\"firstName\", \"city\").write.save(\"nameAndCity.parquet\") \n",
    "df.select(\"firstName\",\"age\").write.save(\"namesAndAges.json\",format=\"json\")\n",
    "\n",
    "spark.stop()"
   ]
  }
 ],
 "metadata": {
  "kernelspec": {
   "display_name": "Python 3 (ipykernel)",
   "language": "python",
   "name": "python3"
  },
  "language_info": {
   "codemirror_mode": {
    "name": "ipython",
    "version": 3
   },
   "file_extension": ".py",
   "mimetype": "text/x-python",
   "name": "python",
   "nbconvert_exporter": "python",
   "pygments_lexer": "ipython3",
   "version": "3.11.3"
  },
  "orig_nbformat": 4
 },
 "nbformat": 4,
 "nbformat_minor": 2
}
